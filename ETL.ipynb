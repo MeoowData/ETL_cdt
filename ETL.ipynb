{
 "cells": [
  {
   "cell_type": "markdown",
   "id": "02211362-5310-4f28-b2bd-5cc5382720d2",
   "metadata": {},
   "source": [
    "# **Carga de dados ETL - Credit Card Transactions**"
   ]
  },
  {
   "cell_type": "markdown",
   "id": "f4006662-0e7a-4d26-b8b0-32c3f47f7b9b",
   "metadata": {},
   "source": [
    "O armazenamento de dados em um SGBD é uma etapa essencial para o uso no contexto de uma empresa. Um dado quando armazenado, também deve estar disponível para acesso das áreas e times interessados. Pensando no contexto mais tradicional, para que um dado seja aplicado em análises, é necessário que ele seja coletado e armazenado.\n",
    "\n",
    "Dependendo de como os dados estão organizados, uma alternativa para esse armazenamento é o uso de um banco de dados relacional. Durante preparação dos dados e a insersação no banco, deve-se levar em consideração o relacionamento entre tabelas e a redudância de dados, pois existe um custo atrelado ao armazenamento e consulta. Esse é um trabalho essêncial nas etapas de engenharia de dados, mais especificamente armazenamento e dispobilidade de dados."
   ]
  },
  {
   "cell_type": "markdown",
   "id": "f3d6c018-a95d-4993-bd01-5fea8943ad80",
   "metadata": {
    "tags": []
   },
   "source": [
    "## **Arquivos Utilizados**"
   ]
  },
  {
   "cell_type": "markdown",
   "id": "4875694c-3a7b-477e-9704-e9c7c9824406",
   "metadata": {},
   "source": [
    "Os dados que serão utilizados para carga ETL podem ser acessados [clicando aqui](https://www.kaggle.com/datasets/ealtman2019/credit-card-transactions/discussion/277100), e foram gerados a partir de uma simulação realizada pela IBM de transações de cartões. A vantagem do uso desses dados para o objetivo especificado é a possibilidade de diminuição de criação de tabelas intermediárias, para otimizar o espaço de armazenamento. Além há a necessidade de tratamento básico em algumas variáveis, que é justamente um trabalho necessário no processo de ETL para disponibilização do dado para consumo.\n",
    "\n",
    "Os dados estão disponibilizados sob a licensa Apache 2.0, e o arquivo LICENSE pode acessado [clicando aqui](LICENSE), conforme descrito pelos termos da licença."
   ]
  },
  {
   "cell_type": "markdown",
   "id": "344b903c-9b4a-4d2a-a38d-d1fef6a6677b",
   "metadata": {
    "tags": []
   },
   "source": [
    "## **Objetivo**"
   ]
  },
  {
   "cell_type": "markdown",
   "id": "9cc4f6a2-16a2-4226-8d02-abd9dace7017",
   "metadata": {},
   "source": [
    "O escopo aqui delmitado é a criação de um banco de dados e carga de dados em um processo ETL, utilizando apenas ferramentas básicas de manipulação de dados e o connector do SGBD em questão. Deverá ser considerado o custo de armazenamento e consultas. Além disso, serão realizadas otimizações na formo como os dados serão armazenados, incluindo informações de metadados, que em um ambiente real possuem valor na organização dos dados e auxilio na realização de consultas de áreas interessadas."
   ]
  },
  {
   "cell_type": "markdown",
   "id": "cb9780a1-c55f-45e1-a334-73bb96a114ed",
   "metadata": {},
   "source": [
    "# **Preparação do Ambiente de Trabalho**"
   ]
  },
  {
   "cell_type": "code",
   "execution_count": 1,
   "id": "ca4682fe-2ed5-41ed-a9ca-dbb015a8253a",
   "metadata": {
    "tags": []
   },
   "outputs": [],
   "source": [
    "import pandas as pd\n",
    "import numpy as np\n",
    "from zipfile import ZipFile\n",
    "import os\n",
    "import mariadb\n",
    "import time\n",
    "from sklearn.preprocessing import LabelEncoder"
   ]
  },
  {
   "cell_type": "code",
   "execution_count": 2,
   "id": "23ec5bd0-72eb-4f58-9e02-dfb1de7a6b87",
   "metadata": {
    "tags": []
   },
   "outputs": [
    {
     "name": "stdout",
     "output_type": "stream",
     "text": [
      "3.11.3\n"
     ]
    }
   ],
   "source": [
    "from platform import python_version\n",
    "print(python_version())"
   ]
  },
  {
   "cell_type": "code",
   "execution_count": 3,
   "id": "e0213259-d8b8-4ac3-a65f-7f83a7fbb4b8",
   "metadata": {
    "tags": []
   },
   "outputs": [],
   "source": [
    "import watermark.watermark as watermark\n",
    "%load_ext watermark"
   ]
  },
  {
   "cell_type": "code",
   "execution_count": 4,
   "id": "81c1cb50-8d18-4f92-a9e8-910d421ad3f4",
   "metadata": {
    "tags": []
   },
   "outputs": [
    {
     "name": "stdout",
     "output_type": "stream",
     "text": [
      "numpy  : 1.24.4\n",
      "mariadb: 1.1.7\n",
      "pandas : 2.0.3\n",
      "\n"
     ]
    }
   ],
   "source": [
    "%watermark --iversions"
   ]
  },
  {
   "cell_type": "markdown",
   "id": "0f3465ae-d082-4813-8569-e19bf8e7978e",
   "metadata": {},
   "source": [
    "## **ETL - Extract, Transform, Load**"
   ]
  },
  {
   "cell_type": "code",
   "execution_count": 5,
   "id": "9cc0847e-56fa-4316-a6fa-7728cdec434b",
   "metadata": {
    "tags": []
   },
   "outputs": [],
   "source": [
    "with ZipFile(\"archive.zip\", \"r\") as zip_ref:\n",
    "    zip_ref.extractall(os.getcwd() + \"/dataset\")"
   ]
  },
  {
   "cell_type": "code",
   "execution_count": 6,
   "id": "f6392b24-92f2-4496-821d-9fd0253479b5",
   "metadata": {
    "tags": []
   },
   "outputs": [],
   "source": [
    "transactions = pd.read_csv('./dataset/credit_card_transactions-ibm_v2.csv')\n",
    "cards = pd.read_csv('./dataset/sd254_cards.csv')\n",
    "users = pd.read_csv('./dataset/sd254_users.csv')"
   ]
  },
  {
   "cell_type": "code",
   "execution_count": 7,
   "id": "acf8bf8f-b782-4178-a711-e9cb68593c95",
   "metadata": {},
   "outputs": [],
   "source": [
    "tabelas = [transactions, cards, users]\n",
    "\n",
    "for i in tabelas:\n",
    "    i.columns = i.columns.str.replace(' ', '').str.replace('?', '').str.replace('-', '')"
   ]
  },
  {
   "cell_type": "markdown",
   "id": "6b8d476b-ff21-429c-b13e-77026049e015",
   "metadata": {},
   "source": [
    "Além do ajuste no nome de colunas presentes, pode ser interessante a geração de novas tabelas, utilizando a tecnica de encoding e até mesmo outras tabelas, com a separação das informações presentes na combinação das 3 tabelas. Isso tem como intuito minimizar a quantidade de espaço necessário para armazenamento dos dados em um SGBD, e aumentar a velocidade com que consultas são executadas. Em contrapartida, a leitura e interpretação das tabelas podem se tornar mais complexas.\n",
    "\n",
    "Além disso, é necessário a realização de ajustes em colunas que representam valores monetários, pois estão representadas como texto, utilizando o simbolo de $."
   ]
  },
  {
   "cell_type": "code",
   "execution_count": 8,
   "id": "d1f57099-3d9b-4bcc-b478-1bbb56bd31eb",
   "metadata": {
    "tags": []
   },
   "outputs": [],
   "source": [
    "le = LabelEncoder()\n",
    "\n",
    "colunas_encoding = [['UseChip', 'IsFraud'], ['CardBrand', 'CardType', 'HasChip', 'CardonDarkWeb'], ['Gender']]\n",
    "colunas_cifrao = [['Amount'], ['CreditLimit'], ['PerCapitaIncomeZipcode', 'YearlyIncomePerson', 'TotalDebt']]\n",
    "\n",
    "for x, i in enumerate(tabelas):\n",
    "    for v in colunas_cifrao[x]:\n",
    "        i[v] = i[v].str.replace(\"$\", '').astype('float64')\n",
    "    for w in colunas_encoding[x]:\n",
    "        i[w + 'Encoding'] = le.fit_transform(i[w])"
   ]
  },
  {
   "cell_type": "code",
   "execution_count": 9,
   "id": "6c5ae1c4-5e91-4280-b20f-0c3112e99d90",
   "metadata": {
    "tags": []
   },
   "outputs": [],
   "source": [
    "cardbrand = cards[['CardBrand', 'CardBrandEncoding']].drop_duplicates().reset_index(drop = True)\n",
    "cardtype = cards[['CardType', 'CardTypeEncoding']].drop_duplicates().reset_index(drop = True)\n",
    "chipcode = transactions[['UseChip', 'UseChipEncoding']].drop_duplicates().reset_index(drop = True)"
   ]
  },
  {
   "cell_type": "markdown",
   "id": "cb210bea-11d5-4fe7-b818-c71952b3bd3f",
   "metadata": {},
   "source": [
    "Uma vez criada tabelas auxiliares e as colunas de encoding, é conveniente realizar a deleção das variáveis utilizadas nos datasets principais.\n",
    "\n",
    "A coluna `CurrentAge` na tabela users também pode ser removida, uma vez que em termos de armazenamento não é uma forma conveniente de armazenar uma idade, pois o dado ficará defasado, necessitando de atualização constnate. Além disso, há as colunas `BirthYear` e `BirthMonth` que também podem entregar a mesma informação, sem necessidade de serem atualizadas."
   ]
  },
  {
   "cell_type": "code",
   "execution_count": 10,
   "id": "3ba47fa8-d5cb-4206-8210-0abfe92d4074",
   "metadata": {},
   "outputs": [
    {
     "data": {
      "text/html": [
       "<div>\n",
       "<style scoped>\n",
       "    .dataframe tbody tr th:only-of-type {\n",
       "        vertical-align: middle;\n",
       "    }\n",
       "\n",
       "    .dataframe tbody tr th {\n",
       "        vertical-align: top;\n",
       "    }\n",
       "\n",
       "    .dataframe thead th {\n",
       "        text-align: right;\n",
       "    }\n",
       "</style>\n",
       "<table border=\"1\" class=\"dataframe\">\n",
       "  <thead>\n",
       "    <tr style=\"text-align: right;\">\n",
       "      <th></th>\n",
       "      <th>User</th>\n",
       "      <th>CARDINDEX</th>\n",
       "      <th>CardBrand</th>\n",
       "      <th>CardType</th>\n",
       "      <th>CardNumber</th>\n",
       "      <th>Expires</th>\n",
       "      <th>CVV</th>\n",
       "      <th>HasChip</th>\n",
       "      <th>CardsIssued</th>\n",
       "      <th>CreditLimit</th>\n",
       "      <th>AcctOpenDate</th>\n",
       "      <th>YearPINlastChanged</th>\n",
       "      <th>CardonDarkWeb</th>\n",
       "      <th>CardBrandEncoding</th>\n",
       "      <th>CardTypeEncoding</th>\n",
       "      <th>HasChipEncoding</th>\n",
       "      <th>CardonDarkWebEncoding</th>\n",
       "    </tr>\n",
       "  </thead>\n",
       "  <tbody>\n",
       "    <tr>\n",
       "      <th>0</th>\n",
       "      <td>0</td>\n",
       "      <td>0</td>\n",
       "      <td>Visa</td>\n",
       "      <td>Debit</td>\n",
       "      <td>4344676511950444</td>\n",
       "      <td>12/2022</td>\n",
       "      <td>623</td>\n",
       "      <td>YES</td>\n",
       "      <td>2</td>\n",
       "      <td>24295.0</td>\n",
       "      <td>09/2002</td>\n",
       "      <td>2008</td>\n",
       "      <td>No</td>\n",
       "      <td>3</td>\n",
       "      <td>1</td>\n",
       "      <td>1</td>\n",
       "      <td>0</td>\n",
       "    </tr>\n",
       "    <tr>\n",
       "      <th>1</th>\n",
       "      <td>0</td>\n",
       "      <td>1</td>\n",
       "      <td>Visa</td>\n",
       "      <td>Debit</td>\n",
       "      <td>4956965974959986</td>\n",
       "      <td>12/2020</td>\n",
       "      <td>393</td>\n",
       "      <td>YES</td>\n",
       "      <td>2</td>\n",
       "      <td>21968.0</td>\n",
       "      <td>04/2014</td>\n",
       "      <td>2014</td>\n",
       "      <td>No</td>\n",
       "      <td>3</td>\n",
       "      <td>1</td>\n",
       "      <td>1</td>\n",
       "      <td>0</td>\n",
       "    </tr>\n",
       "  </tbody>\n",
       "</table>\n",
       "</div>"
      ],
      "text/plain": [
       "   User  CARDINDEX CardBrand CardType        CardNumber  Expires  CVV HasChip  \\\n",
       "0     0          0      Visa    Debit  4344676511950444  12/2022  623     YES   \n",
       "1     0          1      Visa    Debit  4956965974959986  12/2020  393     YES   \n",
       "\n",
       "   CardsIssued  CreditLimit AcctOpenDate  YearPINlastChanged CardonDarkWeb  \\\n",
       "0            2      24295.0      09/2002                2008            No   \n",
       "1            2      21968.0      04/2014                2014            No   \n",
       "\n",
       "   CardBrandEncoding  CardTypeEncoding  HasChipEncoding  CardonDarkWebEncoding  \n",
       "0                  3                 1                1                      0  \n",
       "1                  3                 1                1                      0  "
      ]
     },
     "execution_count": 10,
     "metadata": {},
     "output_type": "execute_result"
    }
   ],
   "source": [
    "cards.head(2)"
   ]
  },
  {
   "cell_type": "code",
   "execution_count": 11,
   "id": "60ae53fb-e421-418f-b4d5-3011f2d1bd33",
   "metadata": {},
   "outputs": [
    {
     "data": {
      "text/html": [
       "<div>\n",
       "<style scoped>\n",
       "    .dataframe tbody tr th:only-of-type {\n",
       "        vertical-align: middle;\n",
       "    }\n",
       "\n",
       "    .dataframe tbody tr th {\n",
       "        vertical-align: top;\n",
       "    }\n",
       "\n",
       "    .dataframe thead th {\n",
       "        text-align: right;\n",
       "    }\n",
       "</style>\n",
       "<table border=\"1\" class=\"dataframe\">\n",
       "  <thead>\n",
       "    <tr style=\"text-align: right;\">\n",
       "      <th></th>\n",
       "      <th>Person</th>\n",
       "      <th>CurrentAge</th>\n",
       "      <th>RetirementAge</th>\n",
       "      <th>BirthYear</th>\n",
       "      <th>BirthMonth</th>\n",
       "      <th>Gender</th>\n",
       "      <th>Address</th>\n",
       "      <th>Apartment</th>\n",
       "      <th>City</th>\n",
       "      <th>State</th>\n",
       "      <th>Zipcode</th>\n",
       "      <th>Latitude</th>\n",
       "      <th>Longitude</th>\n",
       "      <th>PerCapitaIncomeZipcode</th>\n",
       "      <th>YearlyIncomePerson</th>\n",
       "      <th>TotalDebt</th>\n",
       "      <th>FICOScore</th>\n",
       "      <th>NumCreditCards</th>\n",
       "      <th>GenderEncoding</th>\n",
       "    </tr>\n",
       "  </thead>\n",
       "  <tbody>\n",
       "    <tr>\n",
       "      <th>0</th>\n",
       "      <td>Hazel Robinson</td>\n",
       "      <td>53</td>\n",
       "      <td>66</td>\n",
       "      <td>1966</td>\n",
       "      <td>11</td>\n",
       "      <td>Female</td>\n",
       "      <td>462 Rose Lane</td>\n",
       "      <td>NaN</td>\n",
       "      <td>La Verne</td>\n",
       "      <td>CA</td>\n",
       "      <td>91750</td>\n",
       "      <td>34.15</td>\n",
       "      <td>-117.76</td>\n",
       "      <td>29278.0</td>\n",
       "      <td>59696.0</td>\n",
       "      <td>127613.0</td>\n",
       "      <td>787</td>\n",
       "      <td>5</td>\n",
       "      <td>0</td>\n",
       "    </tr>\n",
       "    <tr>\n",
       "      <th>1</th>\n",
       "      <td>Sasha Sadr</td>\n",
       "      <td>53</td>\n",
       "      <td>68</td>\n",
       "      <td>1966</td>\n",
       "      <td>12</td>\n",
       "      <td>Female</td>\n",
       "      <td>3606 Federal Boulevard</td>\n",
       "      <td>NaN</td>\n",
       "      <td>Little Neck</td>\n",
       "      <td>NY</td>\n",
       "      <td>11363</td>\n",
       "      <td>40.76</td>\n",
       "      <td>-73.74</td>\n",
       "      <td>37891.0</td>\n",
       "      <td>77254.0</td>\n",
       "      <td>191349.0</td>\n",
       "      <td>701</td>\n",
       "      <td>5</td>\n",
       "      <td>0</td>\n",
       "    </tr>\n",
       "  </tbody>\n",
       "</table>\n",
       "</div>"
      ],
      "text/plain": [
       "           Person  CurrentAge  RetirementAge  BirthYear  BirthMonth  Gender  \\\n",
       "0  Hazel Robinson          53             66       1966          11  Female   \n",
       "1      Sasha Sadr          53             68       1966          12  Female   \n",
       "\n",
       "                  Address  Apartment         City State  Zipcode  Latitude  \\\n",
       "0           462 Rose Lane        NaN     La Verne    CA    91750     34.15   \n",
       "1  3606 Federal Boulevard        NaN  Little Neck    NY    11363     40.76   \n",
       "\n",
       "   Longitude  PerCapitaIncomeZipcode  YearlyIncomePerson  TotalDebt  \\\n",
       "0    -117.76                 29278.0             59696.0   127613.0   \n",
       "1     -73.74                 37891.0             77254.0   191349.0   \n",
       "\n",
       "   FICOScore  NumCreditCards  GenderEncoding  \n",
       "0        787               5               0  \n",
       "1        701               5               0  "
      ]
     },
     "execution_count": 11,
     "metadata": {},
     "output_type": "execute_result"
    }
   ],
   "source": [
    "users.head(2)"
   ]
  },
  {
   "cell_type": "code",
   "execution_count": 12,
   "id": "a4fa38d1-0ddb-4088-98bd-e70128466422",
   "metadata": {},
   "outputs": [
    {
     "data": {
      "text/html": [
       "<div>\n",
       "<style scoped>\n",
       "    .dataframe tbody tr th:only-of-type {\n",
       "        vertical-align: middle;\n",
       "    }\n",
       "\n",
       "    .dataframe tbody tr th {\n",
       "        vertical-align: top;\n",
       "    }\n",
       "\n",
       "    .dataframe thead th {\n",
       "        text-align: right;\n",
       "    }\n",
       "</style>\n",
       "<table border=\"1\" class=\"dataframe\">\n",
       "  <thead>\n",
       "    <tr style=\"text-align: right;\">\n",
       "      <th></th>\n",
       "      <th>User</th>\n",
       "      <th>Card</th>\n",
       "      <th>Year</th>\n",
       "      <th>Month</th>\n",
       "      <th>Day</th>\n",
       "      <th>Time</th>\n",
       "      <th>Amount</th>\n",
       "      <th>UseChip</th>\n",
       "      <th>MerchantName</th>\n",
       "      <th>MerchantCity</th>\n",
       "      <th>MerchantState</th>\n",
       "      <th>Zip</th>\n",
       "      <th>MCC</th>\n",
       "      <th>Errors</th>\n",
       "      <th>IsFraud</th>\n",
       "      <th>UseChipEncoding</th>\n",
       "      <th>IsFraudEncoding</th>\n",
       "    </tr>\n",
       "  </thead>\n",
       "  <tbody>\n",
       "    <tr>\n",
       "      <th>0</th>\n",
       "      <td>0</td>\n",
       "      <td>0</td>\n",
       "      <td>2002</td>\n",
       "      <td>9</td>\n",
       "      <td>1</td>\n",
       "      <td>06:21</td>\n",
       "      <td>134.09</td>\n",
       "      <td>Swipe Transaction</td>\n",
       "      <td>3527213246127876953</td>\n",
       "      <td>La Verne</td>\n",
       "      <td>CA</td>\n",
       "      <td>91750.0</td>\n",
       "      <td>5300</td>\n",
       "      <td>NaN</td>\n",
       "      <td>No</td>\n",
       "      <td>2</td>\n",
       "      <td>0</td>\n",
       "    </tr>\n",
       "    <tr>\n",
       "      <th>1</th>\n",
       "      <td>0</td>\n",
       "      <td>0</td>\n",
       "      <td>2002</td>\n",
       "      <td>9</td>\n",
       "      <td>1</td>\n",
       "      <td>06:42</td>\n",
       "      <td>38.48</td>\n",
       "      <td>Swipe Transaction</td>\n",
       "      <td>-727612092139916043</td>\n",
       "      <td>Monterey Park</td>\n",
       "      <td>CA</td>\n",
       "      <td>91754.0</td>\n",
       "      <td>5411</td>\n",
       "      <td>NaN</td>\n",
       "      <td>No</td>\n",
       "      <td>2</td>\n",
       "      <td>0</td>\n",
       "    </tr>\n",
       "  </tbody>\n",
       "</table>\n",
       "</div>"
      ],
      "text/plain": [
       "   User  Card  Year  Month  Day   Time  Amount            UseChip  \\\n",
       "0     0     0  2002      9    1  06:21  134.09  Swipe Transaction   \n",
       "1     0     0  2002      9    1  06:42   38.48  Swipe Transaction   \n",
       "\n",
       "          MerchantName   MerchantCity MerchantState      Zip   MCC Errors  \\\n",
       "0  3527213246127876953       La Verne            CA  91750.0  5300    NaN   \n",
       "1  -727612092139916043  Monterey Park            CA  91754.0  5411    NaN   \n",
       "\n",
       "  IsFraud  UseChipEncoding  IsFraudEncoding  \n",
       "0      No                2                0  \n",
       "1      No                2                0  "
      ]
     },
     "execution_count": 12,
     "metadata": {},
     "output_type": "execute_result"
    }
   ],
   "source": [
    "transactions.head(2)"
   ]
  },
  {
   "cell_type": "code",
   "execution_count": 13,
   "id": "a866ddcc-1145-4d71-b549-79f7d0d8111a",
   "metadata": {
    "tags": []
   },
   "outputs": [],
   "source": [
    "cards.drop(['CardBrand', 'CardType', 'HasChip', 'CardonDarkWeb'], axis = 1, inplace = True)\n",
    "users.drop(['Gender', 'CurrentAge'], axis = 1, inplace = True)\n",
    "transactions.drop(['UseChip', 'IsFraud'], axis = 1, inplace = True)"
   ]
  },
  {
   "cell_type": "markdown",
   "id": "b07d21d6-001b-4a84-b3bc-30be6843a56f",
   "metadata": {},
   "source": [
    "Observando as tabelas, de forma mais minuciosa, é possível perceber que a tabela de usuários não possui um identificador comcorrespondência na tabela de transações e cartões. A coluna que poderia ser utilizada para isso seria a coluna `User`, presente nas tabelas cards e transactions. Ainda observando, essa variável pode ser criada, uma vez que os dados foram gerados de forma sequêncial e todos os cartões na tabela **cards** estão de forma sequencial, correspondentes a pessoa da tabela **users**.\n",
    "\n",
    "A criação de um ID único na tabela `transactions`."
   ]
  },
  {
   "cell_type": "code",
   "execution_count": 14,
   "id": "0b73c3ff-88e1-4f7e-bc61-d733ee1f333d",
   "metadata": {
    "tags": []
   },
   "outputs": [],
   "source": [
    "users = users.assign(User = range(len(users)))\n",
    "transactions = transactions.assign(transaction_id = range(len(transactions)))"
   ]
  },
  {
   "cell_type": "markdown",
   "id": "47a58f97-0f21-4abd-813e-ba4201650fbd",
   "metadata": {},
   "source": [
    "Uma vez com os dados devidamente preparados, basta salvar as tabelas e realizar a construção do banco de dados e relacionamento entre as tabelas."
   ]
  },
  {
   "cell_type": "code",
   "execution_count": 15,
   "id": "793c90a7-8a56-4380-984b-83d0a0d41a98",
   "metadata": {},
   "outputs": [],
   "source": [
    "tabelas = [users, cardbrand, cardtype, chipcode, cards, transactions]\n",
    "tabelas_nomes = ['users.csv', 'cardbrand.csv', 'cardtype.csv', 'chipcode.csv', 'cards.csv', 'transactions.csv']\n",
    "\n",
    "if not os.path.exists(\"./datasets_modificados\"):\n",
    "    os.mkdir('./datasets_modificados')\n",
    "\n",
    "for x, i in enumerate(tabelas):\n",
    "    i.to_csv('./datasets_modificados/' + tabelas_nomes[x] , index = False)"
   ]
  },
  {
   "cell_type": "code",
   "execution_count": 16,
   "id": "c8e0c8eb-bc67-4032-8d5e-70a77a92cb9a",
   "metadata": {},
   "outputs": [],
   "source": [
    "def data_type_sql(dataframe):\n",
    "    \"\"\"Função de determina o formato de dados paras as colunas de uma tabela em SQL\"\"\"\n",
    "    \n",
    "    dict_schema = {coluna : str(tipo_dado) for (coluna, tipo_dado) in zip(list(dataframe.columns), [x for x in list(dataframe.dtypes)])}\n",
    "    chaves = list(dict_schema)\n",
    "    \n",
    "    for i in chaves:\n",
    "        if dict_schema[i] == 'int64':\n",
    "            if len(dataframe[i].unique()) == 2:\n",
    "                dict_schema[i] = 'BOOLEAN'\n",
    "            elif dataframe[i].abs().max() <= 2147483647:\n",
    "                dict_schema[i] = 'INT'\n",
    "            else:\n",
    "                dict_schema[i] = 'BIGINT'\n",
    "        elif dict_schema[i] == 'float64':\n",
    "            if dataframe[i].abs().max() <= 3.402823466E+38:\n",
    "                dict_schema[i] = 'FLOAT'\n",
    "            else:\n",
    "                dict_schema[i] = 'DOUBLE'\n",
    "        else:\n",
    "            dict_schema[i] = 'VARCHAR(255)'\n",
    "        \n",
    "        lista_chaves = list(dict_schema.keys())\n",
    "        lista_valores = list(dict_schema.values())\n",
    "        string_schema = \"\"\n",
    "        \n",
    "        for x, v in enumerate(lista_chaves):\n",
    "            string_schema = string_schema + lista_chaves[x] + \" \" + lista_valores[x] + \", \"\n",
    "    return string_schema[:-2].split(', ')"
   ]
  },
  {
   "cell_type": "code",
   "execution_count": 17,
   "id": "04470f88-b285-49e4-960e-7a72b96dd1a4",
   "metadata": {
    "tags": []
   },
   "outputs": [],
   "source": [
    "# Descrição de cada coluna presente nas tabelas\n",
    "\n",
    "comments = [['Nome do portador do cartão', 'Idade esperada de aposentadoria', 'Ano de nascimento', 'Mês de nascimento', 'Endereço de Residência', 'Quantidade de apartamentos que possui', 'Cidade de residência', \n",
    "             'Estado de Residência', 'Código Postal', 'Distância em Graus da Linha do Equador', 'Distância em Graus do Meridiano Greenwich', 'Renda Per Capita por Código Postal',\n",
    "             'Renda Anual', 'Total em Dívida', 'Score de Crédito', 'Número de cartões de crédito', 'Código correspondente ao genero, 0 para Feminino e 1 para Masculino', 'Id correspondente do usuário'],\n",
    "            \n",
    "            ['Bandeira do Cartão', 'Código identificador, correspondente a Bandeira do Cartão'],\n",
    "            \n",
    "            ['Tipo de Cartão', 'Código identificador, correspondente ao Tipo de Cartão'],\n",
    "            \n",
    "            ['Tipo de transação', 'Código identificador, correspondente ao Tipo de Transação'], \n",
    "    \n",
    "            ['Id correspondente do usuário', 'Id correspondente do cartão de crédito', 'Número do Cartão de Crédito', 'Data de Expiração', 'Card Verification Value','Quantidade de Cartões', \n",
    "             'Limite de Crédito', 'Data de contratação', 'Ultimo ano de Alteração do PIN', 'Bandeira do Cartão, 0 para Amex, 1 Para Discover, 2 para Mastercard, 3 para Visa', \n",
    "             'Tipo do cartão, 0 para Crédito, 1 para Débito e 2 para Débito pré-pago', 'Informação se o cartão possui Chip, 1 para Sim e 0 para Não', \n",
    "             'Informação se o cartão já foi encontrado em vazamentos da DarkWeb, 1 para Sim e 0 para não'],\n",
    "    \n",
    "            ['Id correspondente do usuário', 'Id correspondente do cartão de crédito', 'Ano da transação', 'Mês da Transação', 'Dia da Transação', 'Horário da Transação', 'Valor da transação',\n",
    "             'Nome do estabelecimento', 'Cidade em que a transação foi realizada', 'Estado em que a transação foi realizada', 'Código postal do local em que a transação foi realizada', 'Merchant Category Code',\n",
    "             'Motivo do erro da transação', 'Tipo de transação realizada, 0 para Chip Transaction, 1 para Online Transaction, 2 para Swipe Transaction', \n",
    "             'Código identificador para se a transação realizada é fraudulenta, 0 para Não e 1 para Sim', 'Id correspondente da transação']]"
   ]
  },
  {
   "cell_type": "code",
   "execution_count": 18,
   "id": "f208790b-0afd-4ece-9b72-ef331fa0a0e8",
   "metadata": {},
   "outputs": [],
   "source": [
    "query_alter = [[\"ALTER TABLE users ADD PRIMARY KEY (User);\"], \n",
    "           \n",
    "               [\"ALTER TABLE cardbrand ADD PRIMARY KEY (CardBrandEncoding);\"],\n",
    "           \n",
    "               [\"ALTER TABLE cardtype ADD PRIMARY KEY (CardTypeEncoding);\"],\n",
    "           \n",
    "               [\"ALTER TABLE chipcode ADD PRIMARY KEY (UseChipEncoding);\"],\n",
    "\n",
    "               [\"ALTER TABLE cards ADD PRIMARY KEY (User,CARDINDEX);\", \n",
    "                \"ALTER TABLE cards ADD FOREIGN KEY (User) REFERENCES users(User);\",\n",
    "                \"ALTER TABLE cards ADD FOREIGN KEY (CardBrandEncoding) REFERENCES cardbrand(CardBrandEncoding);\",\n",
    "                \"ALTER TABLE cards ADD FOREIGN KEY (CardTypeEncoding) REFERENCES cardtype(CardTypeEncoding);\"],\n",
    "\n",
    "               [\"ALTER TABLE transactions ADD PRIMARY KEY (transaction_id);\", \n",
    "                \"ALTER TABLE transactions ADD FOREIGN KEY (User) REFERENCES users(User);\",\n",
    "                \"ALTER TABLE transactions ADD FOREIGN KEY (User) REFERENCES users(USER);\", \n",
    "                \"ALTER TABLE transactions ADD FOREIGN KEY (User, Card) REFERENCES cards(User, CARDINDEX);\",\n",
    "                \"ALTER TABLE transactions ADD FOREIGN KEY (UseChipEncoding) REFERENCES chipcode(UseChipEncoding);\"]]\n"
   ]
  },
  {
   "cell_type": "code",
   "execution_count": 19,
   "id": "8216f6d7-9594-43c6-83ea-fc7260d3e3ef",
   "metadata": {},
   "outputs": [],
   "source": [
    "conn_params = {\n",
    "    \"user\" : \"root\", # Caso tenha criado o banco utilizando os comandos em docker pode ser substituido por root\n",
    "    \"password\" : \"your_password\", # Senha definida para o usuário no banco de dados\n",
    "    \"host\" : \"IP_host\", # Endereço IP do banco de dados, caso o banco tenha sido criado utilizando docker, a porta pode ser vista rodando o comando docker ps, caso conste --protocol=tcp, a porta definida é 127.0.0.1\n",
    "    \"port\" : 3406\n",
    "}\n",
    "\n",
    "connection = mariadb.connect(**conn_params)\n",
    "cursor = connection.cursor()\n",
    "\n",
    "cursor.execute(\"CREATE OR REPLACE DATABASE credit_card\")\n",
    "cursor.execute(\"USE credit_card\")"
   ]
  },
  {
   "cell_type": "code",
   "execution_count": 20,
   "id": "a3429fc4-93f7-49ac-a267-ef89dd25fc65",
   "metadata": {
    "tags": []
   },
   "outputs": [
    {
     "name": "stdout",
     "output_type": "stream",
     "text": [
      "Arquivo users.csv carregado\n",
      "Arquivo cardbrand.csv carregado\n",
      "Arquivo cardtype.csv carregado\n",
      "Arquivo chipcode.csv carregado\n",
      "Arquivo cards.csv carregado\n",
      "Arquivo transactions.csv carregado\n"
     ]
    }
   ],
   "source": [
    "for x, i in enumerate(tabelas_nomes):\n",
    "    \n",
    "    # Definindo o esquema da tabela\n",
    "    schema_dados = data_type_sql(tabelas[x])\n",
    "    \n",
    "    # Construindo a query para criação da tabela\n",
    "    query = \"CREATE OR REPLACE TABLE {} (\".format(i[:-4]) \n",
    "    \n",
    "    commentarios_colunas = comments[x]\n",
    "    for w, y in enumerate(schema_dados):\n",
    "        query = query + y + \" COMMENT '\" + commentarios_colunas[w]  + \"', \"\n",
    "    \n",
    "    query = query[:-2] + ')'\n",
    "    cursor.execute(query)\n",
    "\n",
    "    # Adição das contrains para as tabelas criadas\n",
    "    for j in query_alter[x]:\n",
    "        cursor.execute(j)\n",
    "    \n",
    "    # Carregando os arquivos por linha de comando\n",
    "    query_load = \"LOAD DATA LOCAL INFILE '\" + './datasets_modificados/' + i + \"' INTO TABLE \" + i[:-4] + \" FIELDS TERMINATED BY ',' ENCLOSED BY '\\\"' ESCAPED BY '\\\\\\\\' IGNORE 1 LINES\"\n",
    "    cursor.execute(query_load)\n",
    "    connection.commit()\n",
    "        \n",
    "    print(\"Arquivo\", i, \"carregado\")"
   ]
  },
  {
   "cell_type": "markdown",
   "id": "67a23ba1-d4c8-4793-b963-4b3aa339f8a8",
   "metadata": {},
   "source": [
    "## **Conclusão**"
   ]
  },
  {
   "cell_type": "markdown",
   "id": "cca3bd7e-825b-40a4-9436-f844b601c09b",
   "metadata": {},
   "source": [
    "Os dados foram devidamente carregados, com tabelas intermediárias, relacionamento e descrições referentes a cada coluna e estão disponíveis para acesso no banco de dados."
   ]
  }
 ],
 "metadata": {
  "kernelspec": {
   "display_name": "Python 3 (ipykernel)",
   "language": "python",
   "name": "python3"
  },
  "language_info": {
   "codemirror_mode": {
    "name": "ipython",
    "version": 3
   },
   "file_extension": ".py",
   "mimetype": "text/x-python",
   "name": "python",
   "nbconvert_exporter": "python",
   "pygments_lexer": "ipython3",
   "version": "3.11.3"
  }
 },
 "nbformat": 4,
 "nbformat_minor": 5
}
